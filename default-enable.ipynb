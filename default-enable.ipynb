{
 "cells": [
  {
   "cell_type": "markdown",
   "metadata": {},
   "source": [
    "# Maarten Breddels\n",
    "# Enabling nbextensions by default (like widgets)\n",
    " * Or, how to avoid users having to execute:\n",
    "   * `pip install ipyvolume`\n",
    "   * `jupyter nbextension enable ipvolume --py --sys-prefix`\n",
    " * Workaround till now\n",
    "   * conda-forge will run a script to do this (still brittle)\n",
    "   * BUT: not on the default channel\n"
   ]
  },
  {
   "cell_type": "code",
   "execution_count": 17,
   "metadata": {},
   "outputs": [
    {
     "name": "stdout",
     "output_type": "stream",
     "text": [
      "Searching ['/Users/maartenbreddels/Dropbox/werk/trips/jupyter-widgets-workshop-2018', '/Users/maartenbreddels/.jupyter', '/Users/maartenbreddels/miniconda3/etc/jupyter', '/usr/local/etc/jupyter', '/etc/jupyter'] for config files\n",
      "Looking for jupyter_config in /etc/jupyter\n",
      "Looking for jupyter_config in /usr/local/etc/jupyter\n",
      "Looking for jupyter_config in /Users/maartenbreddels/miniconda3/etc/jupyter\n",
      "Looking for jupyter_config in /Users/maartenbreddels/.jupyter\n",
      "Looking for jupyter_config in /Users/maartenbreddels/Dropbox/werk/trips/jupyter-widgets-workshop-2018\n",
      "Looking for jupyter nbextension list_config in /etc/jupyter\n",
      "Looking for jupyter nbextension list_config in /usr/local/etc/jupyter\n",
      "Looking for jupyter nbextension list_config in /Users/maartenbreddels/miniconda3/etc/jupyter\n",
      "Looking for jupyter nbextension list_config in /Users/maartenbreddels/.jupyter\n",
      "Looking for jupyter nbextension list_config in /Users/maartenbreddels/Dropbox/werk/trips/jupyter-widgets-workshop-2018\n",
      "Known nbextensions:\n",
      "Paths used for configuration of common: \n",
      "    \t/Users/maartenbreddels/.jupyter/nbconfig/common.json\n",
      "Paths used for configuration of notebook: \n",
      "    \t/Users/maartenbreddels/.jupyter/nbconfig/notebook.json\n",
      "Paths used for configuration of tree: \n",
      "    \t/Users/maartenbreddels/.jupyter/nbconfig/tree.json\n",
      "Paths used for configuration of edit: \n",
      "    \t/Users/maartenbreddels/.jupyter/nbconfig/edit.json\n",
      "Paths used for configuration of terminal: \n",
      "    \t/Users/maartenbreddels/.jupyter/nbconfig/terminal.json\n",
      "Paths used for configuration of common: \n",
      "    \t/Users/maartenbreddels/miniconda3/etc/jupyter/nbconfig/common.json\n",
      "Paths used for configuration of notebook: \n",
      "    \t/Users/maartenbreddels/miniconda3/etc/jupyter/nbconfig/notebook.json\n",
      "  config dir: /Users/maartenbreddels/miniconda3/etc/jupyter/nbconfig\n",
      "    notebook section\n",
      "      jupyter-js-widgets/extension \u001b[32m enabled \u001b[0m\n",
      "      - Validating: \u001b[32mOK\u001b[0m\n",
      "      bqplot/extension \u001b[32m enabled \u001b[0m\n",
      "      - Validating: \u001b[32mOK\u001b[0m\n",
      "      jupyter-leaflet/extension \u001b[32m enabled \u001b[0m\n",
      "      - Validating: \u001b[32mOK\u001b[0m\n",
      "      jupyter-matplotlib/extension \u001b[32m enabled \u001b[0m\n",
      "      - Validating: \u001b[32mOK\u001b[0m\n",
      "      jupyter-webrtc/extension \u001b[32m enabled \u001b[0m\n",
      "      - Validating: \u001b[32mOK\u001b[0m\n",
      "      ipyvolume/extension \u001b[32m enabled \u001b[0m\n",
      "      - Validating: \u001b[32mOK\u001b[0m\n",
      "      ipysheet/extension \u001b[32m enabled \u001b[0m\n",
      "      - Validating: \u001b[32mOK\u001b[0m\n",
      "Paths used for configuration of tree: \n",
      "    \t/Users/maartenbreddels/miniconda3/etc/jupyter/nbconfig/tree.json\n",
      "Paths used for configuration of edit: \n",
      "    \t/Users/maartenbreddels/miniconda3/etc/jupyter/nbconfig/edit.json\n",
      "Paths used for configuration of terminal: \n",
      "    \t/Users/maartenbreddels/miniconda3/etc/jupyter/nbconfig/terminal.json\n",
      "Paths used for configuration of common: \n",
      "    \t/usr/local/etc/jupyter/nbconfig/common.json\n",
      "Paths used for configuration of notebook: \n",
      "    \t/usr/local/etc/jupyter/nbconfig/notebook.json\n",
      "Paths used for configuration of tree: \n",
      "    \t/usr/local/etc/jupyter/nbconfig/tree.json\n",
      "Paths used for configuration of edit: \n",
      "    \t/usr/local/etc/jupyter/nbconfig/edit.json\n",
      "Paths used for configuration of terminal: \n",
      "    \t/usr/local/etc/jupyter/nbconfig/terminal.json\n",
      "Paths used for configuration of common: \n",
      "    \t/etc/jupyter/nbconfig/common.json\n",
      "Paths used for configuration of notebook: \n",
      "    \t/etc/jupyter/nbconfig/notebook.json\n",
      "Paths used for configuration of tree: \n",
      "    \t/etc/jupyter/nbconfig/tree.json\n",
      "Paths used for configuration of edit: \n",
      "    \t/etc/jupyter/nbconfig/edit.json\n",
      "Paths used for configuration of terminal: \n",
      "    \t/etc/jupyter/nbconfig/terminal.json\n"
     ]
    }
   ],
   "source": [
    "!jupyter nbextension list --log-level=DEBUG"
   ]
  },
  {
   "cell_type": "code",
   "execution_count": 10,
   "metadata": {},
   "outputs": [
    {
     "name": "stdout",
     "output_type": "stream",
     "text": [
      "{\r\n",
      "  \"load_extensions\": {\r\n",
      "    \"jupyter-js-widgets/extension\": true,\r\n",
      "    \"bqplot/extension\": true,\r\n",
      "    \"jupyter-leaflet/extension\": true,\r\n",
      "    \"jupyter-matplotlib/extension\": true,\r\n",
      "    \"jupyter-webrtc/extension\": true,\r\n",
      "    \"ipyvolume/extension\": true,\r\n",
      "    \"ipysheet/extension\": true\r\n",
      "  }\r\n",
      "}"
     ]
    }
   ],
   "source": [
    "!cat /Users/maartenbreddels/miniconda3/etc/jupyter/nbconfig/notebook.json"
   ]
  },
  {
   "cell_type": "code",
   "execution_count": null,
   "metadata": {},
   "outputs": [],
   "source": []
  },
  {
   "cell_type": "markdown",
   "metadata": {},
   "source": [
    " * Issue: package manager cannot/should not modify files or run:\n",
    "     * `jupyter nbextension enable ipvolume --py --sys-prefix`\n",
    " * Solution: .d directory with multiple .json files that get 'merged'\n",
    " * Possible: starting from notebook 5.3"
   ]
  },
  {
   "cell_type": "code",
   "execution_count": 15,
   "metadata": {},
   "outputs": [
    {
     "name": "stdout",
     "output_type": "stream",
     "text": [
      "Searching ['/Users/maartenbreddels/Dropbox/werk/trips/jupyter-widgets-workshop-2018', '/Users/maartenbreddels/.jupyter', '/Users/maartenbreddels/miniconda3/envs/test/etc/jupyter', '/usr/local/etc/jupyter', '/etc/jupyter'] for config files\n",
      "Looking for jupyter_config in /etc/jupyter\n",
      "Looking for jupyter_config in /usr/local/etc/jupyter\n",
      "Looking for jupyter_config in /Users/maartenbreddels/miniconda3/envs/test/etc/jupyter\n",
      "Looking for jupyter_config in /Users/maartenbreddels/.jupyter\n",
      "Looking for jupyter_config in /Users/maartenbreddels/Dropbox/werk/trips/jupyter-widgets-workshop-2018\n",
      "Looking for jupyter nbextension list_config in /etc/jupyter\n",
      "Looking for jupyter nbextension list_config in /usr/local/etc/jupyter\n",
      "Looking for jupyter nbextension list_config in /Users/maartenbreddels/miniconda3/envs/test/etc/jupyter\n",
      "Looking for jupyter nbextension list_config in /Users/maartenbreddels/.jupyter\n",
      "Looking for jupyter nbextension list_config in /Users/maartenbreddels/Dropbox/werk/trips/jupyter-widgets-workshop-2018\n",
      "Known nbextensions:\n",
      "Paths used for configuration of common: \n",
      "    \t/Users/maartenbreddels/.jupyter/nbconfig/common.json\n",
      "Paths used for configuration of notebook: \n",
      "    \t/Users/maartenbreddels/.jupyter/nbconfig/notebook.json\n",
      "Paths used for configuration of tree: \n",
      "    \t/Users/maartenbreddels/.jupyter/nbconfig/tree.json\n",
      "Paths used for configuration of edit: \n",
      "    \t/Users/maartenbreddels/.jupyter/nbconfig/edit.json\n",
      "Paths used for configuration of terminal: \n",
      "    \t/Users/maartenbreddels/.jupyter/nbconfig/terminal.json\n",
      "Paths used for configuration of common: \n",
      "    \t/Users/maartenbreddels/miniconda3/envs/test/etc/jupyter/nbconfig/common.json\n",
      "Paths used for configuration of notebook: \n",
      "    \t/Users/maartenbreddels/miniconda3/envs/test/etc/jupyter/nbconfig/notebook.d/ipysheet.json\n",
      "    \t/Users/maartenbreddels/miniconda3/envs/test/etc/jupyter/nbconfig/notebook.d/ipyvolume.json\n",
      "    \t/Users/maartenbreddels/miniconda3/envs/test/etc/jupyter/nbconfig/notebook.d/widgetsnbextension.json\n",
      "    \t/Users/maartenbreddels/miniconda3/envs/test/etc/jupyter/nbconfig/notebook.json\n",
      "  config dir: /Users/maartenbreddels/miniconda3/envs/test/etc/jupyter/nbconfig\n",
      "    notebook section\n",
      "      ipysheet/extension \u001b[32m enabled \u001b[0m\n",
      "      - Validating: \u001b[32mOK\u001b[0m\n",
      "      ipyvolume/extension \u001b[32m enabled \u001b[0m\n",
      "      - Validating: \u001b[32mOK\u001b[0m\n",
      "      jupyter-js-widgets/extension \u001b[32m enabled \u001b[0m\n",
      "      - Validating: \u001b[32mOK\u001b[0m\n",
      "Paths used for configuration of tree: \n",
      "    \t/Users/maartenbreddels/miniconda3/envs/test/etc/jupyter/nbconfig/tree.json\n",
      "Paths used for configuration of edit: \n",
      "    \t/Users/maartenbreddels/miniconda3/envs/test/etc/jupyter/nbconfig/edit.json\n",
      "Paths used for configuration of terminal: \n",
      "    \t/Users/maartenbreddels/miniconda3/envs/test/etc/jupyter/nbconfig/terminal.json\n",
      "Paths used for configuration of common: \n",
      "    \t/usr/local/etc/jupyter/nbconfig/common.json\n",
      "Paths used for configuration of notebook: \n",
      "    \t/usr/local/etc/jupyter/nbconfig/notebook.json\n",
      "Paths used for configuration of tree: \n",
      "    \t/usr/local/etc/jupyter/nbconfig/tree.json\n",
      "Paths used for configuration of edit: \n",
      "    \t/usr/local/etc/jupyter/nbconfig/edit.json\n",
      "Paths used for configuration of terminal: \n",
      "    \t/usr/local/etc/jupyter/nbconfig/terminal.json\n",
      "Paths used for configuration of common: \n",
      "    \t/etc/jupyter/nbconfig/common.json\n",
      "Paths used for configuration of notebook: \n",
      "    \t/etc/jupyter/nbconfig/notebook.json\n",
      "Paths used for configuration of tree: \n",
      "    \t/etc/jupyter/nbconfig/tree.json\n",
      "Paths used for configuration of edit: \n",
      "    \t/etc/jupyter/nbconfig/edit.json\n",
      "Paths used for configuration of terminal: \n",
      "    \t/etc/jupyter/nbconfig/terminal.json\n"
     ]
    }
   ],
   "source": [
    "!source activate test; python -m jupyter nbextension list --log-level=DEBUG"
   ]
  },
  {
   "cell_type": "code",
   "execution_count": 16,
   "metadata": {},
   "outputs": [
    {
     "name": "stdout",
     "output_type": "stream",
     "text": [
      "{\r\n",
      "  \"load_extensions\": {\r\n",
      "    \"ipysheet/extension\": true\r\n",
      "  }\r\n",
      "}"
     ]
    }
   ],
   "source": [
    "!cat /Users/maartenbreddels/miniconda3/envs/test/etc/jupyter/nbconfig/notebook.d/ipysheet.json"
   ]
  },
  {
   "cell_type": "code",
   "execution_count": null,
   "metadata": {},
   "outputs": [],
   "source": [
    "setup(....\n",
    "    data_files=[\n",
    "        ('share/jupyter/nbextensions/ipyvolume', [\n",
    "            'ipyvolume/static/extension.js',\n",
    "            'ipyvolume/static/index.js',\n",
    "            'ipyvolume/static/three.js',\n",
    "            'ipyvolume/static/index.js.map',\n",
    "        ]),\n",
    "        ('etc/jupyter/nbconfig/notebook.d/' , ['ipyvolume.json'])\n",
    "    ],\n",
    ")"
   ]
  },
  {
   "cell_type": "markdown",
   "metadata": {},
   "source": [
    "Code: `notebook/config_manager.py`\n",
    "\n",
    "# Exercise\n",
    " * Create a PR to put this in https://github.com/jupyter-widgets/widget-cookiecutter\n",
    "\n",
    "# Questions\n",
    " * What does this apply to: serverextensions, ...\n",
    " * "
   ]
  },
  {
   "cell_type": "code",
   "execution_count": null,
   "metadata": {},
   "outputs": [],
   "source": []
  }
 ],
 "metadata": {
  "kernelspec": {
   "display_name": "Python 3",
   "language": "python",
   "name": "python3"
  },
  "language_info": {
   "codemirror_mode": {
    "name": "ipython",
    "version": 3
   },
   "file_extension": ".py",
   "mimetype": "text/x-python",
   "name": "python",
   "nbconvert_exporter": "python",
   "pygments_lexer": "ipython3",
   "version": "3.6.3"
  }
 },
 "nbformat": 4,
 "nbformat_minor": 2
}
